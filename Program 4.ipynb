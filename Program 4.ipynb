{
 "cells": [
  {
   "cell_type": "markdown",
   "metadata": {},
   "source": [
    "# Program 4: Back Propagation Algorithm"
   ]
  },
  {
   "cell_type": "markdown",
   "metadata": {},
   "source": [
    "# import numpy library"
   ]
  },
  {
   "cell_type": "code",
   "execution_count": 1,
   "metadata": {},
   "outputs": [],
   "source": [
    "import numpy as np"
   ]
  },
  {
   "cell_type": "markdown",
   "metadata": {},
   "source": [
    "## attributes and their values"
   ]
  },
  {
   "cell_type": "code",
   "execution_count": 2,
   "metadata": {},
   "outputs": [],
   "source": [
    "X = np.array(([2, 9], [1, 5], [3, 6]), dtype=float)\n",
    "\n",
    "y = np.array(([92], [86], [89]), dtype=float)\n",
    "\n",
    "X = X/np.amax(X,axis=0) # maximum of X array longitudinally\n",
    "\n",
    "y = y/100\n",
    "\n",
    "epoch=5000 #Setting training iterations\n",
    "\n",
    "lr=0.1 #Setting learning rate\n",
    "\n",
    "inputlayer_neurons = 2 #number of features in data set\n",
    "\n",
    "hiddenlayer_neurons = 3 #number of hidden layers neurons\n",
    "\n",
    "output_neurons = 1 #number of neurons at output layer\n",
    "\n",
    "wh=np.random.uniform(size=(inputlayer_neurons,hiddenlayer_neurons))\n",
    "\n",
    "bh=np.random.uniform(size=(1,hiddenlayer_neurons))\n",
    "\n",
    "wout=np.random.uniform(size=(hiddenlayer_neurons,output_neurons))\n",
    "\n",
    "bout=np.random.uniform(size=(1,output_neurons))"
   ]
  },
  {
   "cell_type": "markdown",
   "metadata": {},
   "source": [
    "## functions for forward propagation and back propagation"
   ]
  },
  {
   "cell_type": "code",
   "execution_count": 3,
   "metadata": {},
   "outputs": [],
   "source": [
    "def sigmoid (x):\n",
    "\n",
    "    return 1/(1 + np.exp(-x))"
   ]
  },
  {
   "cell_type": "code",
   "execution_count": 4,
   "metadata": {},
   "outputs": [],
   "source": [
    "def derivatives_sigmoid(x):\n",
    "\n",
    "    return x * (1 - x)\n",
    "\n"
   ]
  },
  {
   "cell_type": "markdown",
   "metadata": {},
   "source": [
    "## algorithm"
   ]
  },
  {
   "cell_type": "code",
   "execution_count": 5,
   "metadata": {},
   "outputs": [],
   "source": [
    "for i in range(epoch):\n",
    "\n",
    "#Forward Propogation\n",
    "\n",
    "    hinp1=np.dot(X,wh)\n",
    "\n",
    "    hinp=hinp1 + bh\n",
    "\n",
    "    hlayer_act = sigmoid(hinp)\n",
    "\n",
    "    outinp1=np.dot(hlayer_act,wout)\n",
    "\n",
    "    outinp= outinp1+ bout\n",
    "\n",
    "    output = sigmoid(outinp)\n",
    "\n",
    "#Backpropagation\n",
    "\n",
    "    EO = y-output\n",
    "\n",
    "    outgrad = derivatives_sigmoid(output)\n",
    "\n",
    "    d_output = EO* outgrad\n",
    "\n",
    "    EH = d_output.dot(wout.T)\n",
    "\n",
    "    hiddengrad = derivatives_sigmoid(hlayer_act)#how much hidden layer wts contributed to error\n",
    "\n",
    "    d_hiddenlayer = EH * hiddengrad\n",
    "\n",
    "    wout += hlayer_act.T.dot(d_output) *lr# dotproduct of nextlayererror and currentlayerop\n",
    "\n",
    "   # bout += np.sum(d_output, axis=0,keepdims=True) *lr\n",
    "\n",
    "    wh += X.T.dot(d_hiddenlayer) *lr\n",
    "\n",
    "    #bh += np.sum(d_hiddenlayer, axis=0,keepdims=True) *lr"
   ]
  },
  {
   "cell_type": "markdown",
   "metadata": {},
   "source": [
    "## Print the output"
   ]
  },
  {
   "cell_type": "code",
   "execution_count": 6,
   "metadata": {},
   "outputs": [
    {
     "name": "stdout",
     "output_type": "stream",
     "text": [
      "Input: \n",
      "[[0.66666667 1.        ]\n",
      " [0.33333333 0.55555556]\n",
      " [1.         0.66666667]]\n",
      "Actual Output: \n",
      "[[0.92]\n",
      " [0.86]\n",
      " [0.89]]\n",
      "Predicted Output: \n",
      " [[0.89492026]\n",
      " [0.88156888]\n",
      " [0.8933766 ]]\n"
     ]
    }
   ],
   "source": [
    "print(\"Input: \\n\" + str(X)) \n",
    "\n",
    "print(\"Actual Output: \\n\" + str(y))\n",
    "\n",
    "print(\"Predicted Output: \\n\" ,output)"
   ]
  },
  {
   "cell_type": "markdown",
   "metadata": {},
   "source": [
    "## -----PowerPC-----"
   ]
  }
 ],
 "metadata": {
  "kernelspec": {
   "display_name": "Python 3",
   "language": "python",
   "name": "python3"
  },
  "language_info": {
   "codemirror_mode": {
    "name": "ipython",
    "version": 3
   },
   "file_extension": ".py",
   "mimetype": "text/x-python",
   "name": "python",
   "nbconvert_exporter": "python",
   "pygments_lexer": "ipython3",
   "version": "3.7.4"
  }
 },
 "nbformat": 4,
 "nbformat_minor": 2
}
