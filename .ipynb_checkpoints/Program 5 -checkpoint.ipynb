{
 "cells": [
  {
   "cell_type": "markdown",
   "metadata": {},
   "source": [
    "# Program 5 : Bayes Theorem"
   ]
  },
  {
   "cell_type": "markdown",
   "metadata": {},
   "source": [
    "## import csv, random and math"
   ]
  },
  {
   "cell_type": "code",
   "execution_count": 15,
   "metadata": {},
   "outputs": [],
   "source": [
    "import csv\n",
    "import random\n",
    "import math"
   ]
  },
  {
   "cell_type": "markdown",
   "metadata": {},
   "source": [
    "## function to split data into train and test set"
   ]
  },
  {
   "cell_type": "code",
   "execution_count": 16,
   "metadata": {},
   "outputs": [],
   "source": [
    "def splitdataset(dataset,splitratio):\n",
    "    trainsize=int(len(dataset)*splitratio)\n",
    "    trainset=[]\n",
    "    copy=list(dataset)\n",
    "    while(len(trainset)<trainsize):\n",
    "        index=random.randrange(len(copy))\n",
    "        trainset.append(copy.pop(index))\n",
    "    return [trainset,copy]"
   ]
  },
  {
   "cell_type": "code",
   "execution_count": 17,
   "metadata": {},
   "outputs": [],
   "source": [
    "def separatebyclass(dataset):\n",
    "    separated={}\n",
    "    for i in range(len(dataset)):\n",
    "        vector=dataset[i]\n",
    "        if(vector[-1] not in separated):\n",
    "            separated[vector[-1]]=[]\n",
    "        separated[vector[-1]].append(vector)\n",
    "    return separated"
   ]
  },
  {
   "cell_type": "markdown",
   "metadata": {},
   "source": [
    "## Mean function"
   ]
  },
  {
   "cell_type": "code",
   "execution_count": 18,
   "metadata": {},
   "outputs": [],
   "source": [
    "def mean(numbers):\n",
    "    return  sum(numbers)/float(len(numbers))"
   ]
  },
  {
   "cell_type": "markdown",
   "metadata": {},
   "source": [
    "## Standard Deviation"
   ]
  },
  {
   "cell_type": "code",
   "execution_count": 19,
   "metadata": {},
   "outputs": [],
   "source": [
    "def stdev(numbers):\n",
    "    avg=mean(numbers)\n",
    "    variance=sum([pow(x-avg,2) for x in numbers])/float(len(numbers)-1)\n",
    "    return math.sqrt(variance)"
   ]
  },
  {
   "cell_type": "markdown",
   "metadata": {},
   "source": [
    "## summarize functions"
   ]
  },
  {
   "cell_type": "code",
   "execution_count": 20,
   "metadata": {},
   "outputs": [],
   "source": [
    "def summarize(dataset):\n",
    "    summaries=[(mean(attribute),stdev(attribute)) for attribute in zip(*dataset)]\n",
    "    del summaries[-1]\n",
    "    return summaries"
   ]
  },
  {
   "cell_type": "code",
   "execution_count": 21,
   "metadata": {},
   "outputs": [],
   "source": [
    "def summarizebyclass(dataset):\n",
    "    separated=separatebyclass(dataset)\n",
    "    summaries={}\n",
    "    for classvalue,instances in separated.items():\n",
    "        summaries[classvalue]=summarize(instances)\n",
    "    return summaries"
   ]
  },
  {
   "cell_type": "markdown",
   "metadata": {},
   "source": [
    "## to calculate posterior probability"
   ]
  },
  {
   "cell_type": "code",
   "execution_count": 22,
   "metadata": {},
   "outputs": [],
   "source": [
    "def calculateprobability(x,mean,stdev):\n",
    "    exponent=math.exp(-(math.pow(x-mean,2)/(2*math.pow(stdev,2))))\n",
    "    return (1/(math.sqrt(2*math.pi)*stdev))*exponent"
   ]
  },
  {
   "cell_type": "code",
   "execution_count": 23,
   "metadata": {},
   "outputs": [],
   "source": [
    "def calculateclassprobabilities(summaries,inputvector):\n",
    "    probabilities={}\n",
    "    for classvalue,classsummaries in summaries.items():\n",
    "        probabilities[classvalue]=1\n",
    "        for i in range(len(classsummaries)):\n",
    "            mean,stdev=classsummaries[i]\n",
    "            x=inputvector[i]\n",
    "            probabilities[classvalue]*=calculateprobability(x,mean,stdev)\n",
    "    return probabilities"
   ]
  },
  {
   "cell_type": "code",
   "execution_count": 24,
   "metadata": {},
   "outputs": [],
   "source": [
    "def predict(summaries,inputvector):\n",
    "    probabilities=calculateclassprobabilities(summaries,inputvector)\n",
    "    bestlabel,bestprob=None,-1\n",
    "    for classvalue,probability in probabilities.items():\n",
    "        if bestlabel is None or probability>bestprob:\n",
    "            bestprob=probability\n",
    "            bestlabel=classvalue\n",
    "    return bestlabel"
   ]
  },
  {
   "cell_type": "code",
   "execution_count": 25,
   "metadata": {},
   "outputs": [],
   "source": [
    "def getpredictions(summaries,testset):\n",
    "    predictions=[]\n",
    "    for i in range(len(testset)):\n",
    "        result=predict(summaries,testset[i])\n",
    "        predictions.append(result)\n",
    "    return predictions"
   ]
  },
  {
   "cell_type": "markdown",
   "metadata": {},
   "source": [
    "## main function"
   ]
  },
  {
   "cell_type": "code",
   "execution_count": 26,
   "metadata": {},
   "outputs": [
    {
     "name": "stdout",
     "output_type": "stream",
     "text": [
      "Split 768 rows into Train = 514 and Test 254 rows\n",
      "Accuracy of the classifier is: 74.40944881889764%\n"
     ]
    }
   ],
   "source": [
    "def main():\n",
    "    splitratio=0.67\n",
    "    \n",
    "    with open('5.csv','r') as csvfile:\n",
    "        reader = csv.reader(csvfile)\n",
    "        dataset=list(reader)\n",
    "    for i in range(len(dataset)):\n",
    "        dataset[i]=[float(x) for x in dataset[i]]\n",
    "        \n",
    "        \n",
    "    trainingset,testset=splitdataset(dataset,splitratio)\n",
    "    print('Split {0} rows into Train = {1} and Test {2} rows'.format(len(dataset),len(trainingset),len(testset)))\n",
    "\n",
    "    summaries=summarizebyclass(trainingset)\n",
    "    predictions=getpredictions(summaries,testset)\n",
    "    accuracy=getaccuracy(testset,predictions)\n",
    "    print('Accuracy of the classifier is: {0}%'.format(accuracy))\n",
    "    \n",
    "main()"
   ]
  },
  {
   "cell_type": "markdown",
   "metadata": {},
   "source": [
    "## -----PowerPC-----"
   ]
  }
 ],
 "metadata": {
  "kernelspec": {
   "display_name": "Python 3",
   "language": "python",
   "name": "python3"
  },
  "language_info": {
   "codemirror_mode": {
    "name": "ipython",
    "version": 3
   },
   "file_extension": ".py",
   "mimetype": "text/x-python",
   "name": "python",
   "nbconvert_exporter": "python",
   "pygments_lexer": "ipython3",
   "version": "3.7.4"
  }
 },
 "nbformat": 4,
 "nbformat_minor": 2
}
