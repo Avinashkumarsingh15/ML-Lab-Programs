{
 "cells": [
  {
   "cell_type": "markdown",
   "metadata": {},
   "source": [
    "## Program 6: Naive Bayesian Classifier"
   ]
  },
  {
   "cell_type": "code",
   "execution_count": 15,
   "metadata": {},
   "outputs": [],
   "source": [
    "import pandas as pd"
   ]
  },
  {
   "cell_type": "code",
   "execution_count": 16,
   "metadata": {},
   "outputs": [
    {
     "name": "stdout",
     "output_type": "stream",
     "text": [
      "The dimensions of the dataset (18, 2)\n",
      "0                    I love this sandwich\\n\n",
      "1                  This is an amazing place\n",
      "2        I feel very good about these beers\n",
      "3                      This is my best work\n",
      "4                      What an awesome view\n",
      "5             I do not like this restaurant\n",
      "6                  I am tired of this stuff\n",
      "7                    I can't deal with this\n",
      "8                      He is my sworn enemy\n",
      "9                       My boss is horrible\n",
      "10                 This is an awesome place\n",
      "11    I do not like the taste of this juice\n",
      "12                          I love to dance\n",
      "13        I am sick and tired of this place\n",
      "14                     What a great holiday\n",
      "15           That is a bad locality to stay\n",
      "16           We will have good fun tomorrow\n",
      "17         I went to my enemy's house today\n",
      "Name: message, dtype: object\n",
      "0     1.0\n",
      "1     1.0\n",
      "2     1.0\n",
      "3     1.0\n",
      "4     1.0\n",
      "5     NaN\n",
      "6     0.0\n",
      "7     0.0\n",
      "8     0.0\n",
      "9     0.0\n",
      "10    1.0\n",
      "11    0.0\n",
      "12    0.0\n",
      "13    0.0\n",
      "14    1.0\n",
      "15    0.0\n",
      "16    1.0\n",
      "17    0.0\n",
      "Name: labelnum, dtype: float64\n"
     ]
    }
   ],
   "source": [
    "msg = pd.read_csv('6data.csv',names=['message','label'])\n",
    "print('The dimensions of the dataset',msg.shape)\n",
    "msg['labelnum']=msg.label.map({'pos':1,'neg':0})\n",
    "X=msg.message\n",
    "Y=msg.labelnum\n",
    "print(X)\n",
    "print(Y)"
   ]
  },
  {
   "cell_type": "code",
   "execution_count": 17,
   "metadata": {},
   "outputs": [
    {
     "name": "stdout",
     "output_type": "stream",
     "text": [
      "(5,)\n",
      "(13,)\n",
      "(5,)\n",
      "(13,)\n"
     ]
    }
   ],
   "source": [
    "from sklearn.model_selection import train_test_split\n",
    "xtrain, xtest, ytrain,ytest=train_test_split(X,Y)\n",
    "print(xtest.shape)\n",
    "print(xtrain.shape)\n",
    "print(ytest.shape)\n",
    "print(ytrain.shape)"
   ]
  },
  {
   "cell_type": "code",
   "execution_count": 18,
   "metadata": {},
   "outputs": [
    {
     "name": "stdout",
     "output_type": "stream",
     "text": [
      "['about', 'am', 'an', 'and', 'awesome', 'beers', 'best', 'do', 'enemy', 'feel', 'fun', 'good', 'great', 'have', 'he', 'holiday', 'house', 'is', 'juice', 'like', 'love', 'my', 'not', 'of', 'place', 'restaurant', 'sandwich', 'sick', 'stuff', 'sworn', 'taste', 'the', 'these', 'this', 'tired', 'to', 'today', 'tomorrow', 'very', 'view', 'we', 'went', 'what', 'will', 'work']\n"
     ]
    }
   ],
   "source": [
    "from sklearn.feature_extraction.text import CountVectorizer\n",
    "count_vect = CountVectorizer()\n",
    "xtrain_dtm = count_vect.fit_transform(xtrain)\n",
    "xtest_dtm = count_vect.transform(xtest)\n",
    "print(count_vect.get_feature_names())\n",
    "df=pd.DataFrame(xtrain_dtm.toarray(),columns=count_vect.get_feature_names())"
   ]
  },
  {
   "cell_type": "code",
   "execution_count": 19,
   "metadata": {},
   "outputs": [
    {
     "name": "stdout",
     "output_type": "stream",
     "text": [
      "    about  am  an  and  awesome  beers  best  do  enemy  feel  ...  to  today  \\\n",
      "0       0   0   0    0        0      0     0   0      0     0  ...   0      0   \n",
      "1       0   0   0    0        0      0     0   1      0     0  ...   0      0   \n",
      "2       0   0   0    0        0      0     0   1      0     0  ...   0      0   \n",
      "3       0   0   0    0        0      0     0   0      0     0  ...   0      0   \n",
      "4       0   1   0    0        0      0     0   0      0     0  ...   0      0   \n",
      "5       0   0   0    0        0      0     0   0      1     0  ...   0      0   \n",
      "6       0   0   0    0        0      0     0   0      0     0  ...   0      0   \n",
      "7       1   0   0    0        0      1     0   0      0     1  ...   0      0   \n",
      "8       0   1   0    1        0      0     0   0      0     0  ...   0      0   \n",
      "9       0   0   1    0        1      0     0   0      0     0  ...   0      0   \n",
      "10      0   0   0    0        0      0     0   0      1     0  ...   1      1   \n",
      "11      0   0   1    0        1      0     0   0      0     0  ...   0      0   \n",
      "12      0   0   0    0        0      0     1   0      0     0  ...   0      0   \n",
      "\n",
      "    tomorrow  very  view  we  went  what  will  work  \n",
      "0          0     0     0   0     0     0     0     0  \n",
      "1          0     0     0   0     0     0     0     0  \n",
      "2          0     0     0   0     0     0     0     0  \n",
      "3          0     0     0   0     0     1     0     0  \n",
      "4          0     0     0   0     0     0     0     0  \n",
      "5          0     0     0   0     0     0     0     0  \n",
      "6          1     0     0   1     0     0     1     0  \n",
      "7          0     1     0   0     0     0     0     0  \n",
      "8          0     0     0   0     0     0     0     0  \n",
      "9          0     0     1   0     0     1     0     0  \n",
      "10         0     0     0   0     1     0     0     0  \n",
      "11         0     0     0   0     0     0     0     0  \n",
      "12         0     0     0   0     0     0     0     1  \n",
      "\n",
      "[13 rows x 45 columns]\n",
      "  (0, 20)\t1\n",
      "  (0, 33)\t1\n",
      "  (0, 26)\t1\n",
      "  (1, 33)\t1\n",
      "  (1, 7)\t1\n",
      "  (1, 22)\t1\n",
      "  (1, 19)\t1\n",
      "  (1, 31)\t1\n",
      "  (1, 30)\t1\n",
      "  (1, 23)\t1\n",
      "  (1, 18)\t1\n",
      "  (2, 33)\t1\n",
      "  (2, 7)\t1\n",
      "  (2, 22)\t1\n",
      "  (2, 19)\t1\n",
      "  (2, 25)\t1\n",
      "  (3, 42)\t1\n",
      "  (3, 12)\t1\n",
      "  (3, 15)\t1\n",
      "  (4, 33)\t1\n",
      "  (4, 23)\t1\n",
      "  (4, 1)\t1\n",
      "  (4, 34)\t1\n",
      "  (4, 28)\t1\n",
      "  (5, 14)\t1\n",
      "  :\t:\n",
      "  (8, 1)\t1\n",
      "  (8, 34)\t1\n",
      "  (8, 27)\t1\n",
      "  (8, 3)\t1\n",
      "  (8, 24)\t1\n",
      "  (9, 42)\t1\n",
      "  (9, 2)\t1\n",
      "  (9, 4)\t1\n",
      "  (9, 39)\t1\n",
      "  (10, 21)\t1\n",
      "  (10, 8)\t1\n",
      "  (10, 41)\t1\n",
      "  (10, 35)\t1\n",
      "  (10, 16)\t1\n",
      "  (10, 36)\t1\n",
      "  (11, 33)\t1\n",
      "  (11, 17)\t1\n",
      "  (11, 24)\t1\n",
      "  (11, 2)\t1\n",
      "  (11, 4)\t1\n",
      "  (12, 33)\t1\n",
      "  (12, 17)\t1\n",
      "  (12, 21)\t1\n",
      "  (12, 6)\t1\n",
      "  (12, 44)\t1\n"
     ]
    }
   ],
   "source": [
    "print(df)\n",
    "print(xtrain_dtm)"
   ]
  },
  {
   "cell_type": "code",
   "execution_count": 20,
   "metadata": {},
   "outputs": [
    {
     "ename": "ValueError",
     "evalue": "Input contains NaN, infinity or a value too large for dtype('float64').",
     "output_type": "error",
     "traceback": [
      "\u001b[0;31m---------------------------------------------------------------------------\u001b[0m",
      "\u001b[0;31mValueError\u001b[0m                                Traceback (most recent call last)",
      "\u001b[0;32m<ipython-input-20-f14fede08771>\u001b[0m in \u001b[0;36m<module>\u001b[0;34m\u001b[0m\n\u001b[1;32m      1\u001b[0m \u001b[0;32mfrom\u001b[0m \u001b[0msklearn\u001b[0m\u001b[0;34m.\u001b[0m\u001b[0mnaive_bayes\u001b[0m \u001b[0;32mimport\u001b[0m \u001b[0mMultinomialNB\u001b[0m\u001b[0;34m\u001b[0m\u001b[0;34m\u001b[0m\u001b[0m\n\u001b[0;32m----> 2\u001b[0;31m \u001b[0mclf\u001b[0m \u001b[0;34m=\u001b[0m \u001b[0mMultinomialNB\u001b[0m\u001b[0;34m(\u001b[0m\u001b[0;34m)\u001b[0m\u001b[0;34m.\u001b[0m\u001b[0mfit\u001b[0m\u001b[0;34m(\u001b[0m\u001b[0mxtrain_dtm\u001b[0m\u001b[0;34m,\u001b[0m\u001b[0mytrain\u001b[0m\u001b[0;34m)\u001b[0m\u001b[0;34m\u001b[0m\u001b[0;34m\u001b[0m\u001b[0m\n\u001b[0m\u001b[1;32m      3\u001b[0m \u001b[0mpredicted\u001b[0m \u001b[0;34m=\u001b[0m \u001b[0mclf\u001b[0m\u001b[0;34m.\u001b[0m\u001b[0mpredict\u001b[0m\u001b[0;34m(\u001b[0m\u001b[0mxtext_dtm\u001b[0m\u001b[0;34m)\u001b[0m\u001b[0;34m\u001b[0m\u001b[0;34m\u001b[0m\u001b[0m\n",
      "\u001b[0;32m/usr/local/lib/python3.7/site-packages/sklearn/naive_bayes.py\u001b[0m in \u001b[0;36mfit\u001b[0;34m(self, X, y, sample_weight)\u001b[0m\n\u001b[1;32m    586\u001b[0m         \u001b[0mself\u001b[0m \u001b[0;34m:\u001b[0m \u001b[0mobject\u001b[0m\u001b[0;34m\u001b[0m\u001b[0;34m\u001b[0m\u001b[0m\n\u001b[1;32m    587\u001b[0m         \"\"\"\n\u001b[0;32m--> 588\u001b[0;31m         \u001b[0mX\u001b[0m\u001b[0;34m,\u001b[0m \u001b[0my\u001b[0m \u001b[0;34m=\u001b[0m \u001b[0mcheck_X_y\u001b[0m\u001b[0;34m(\u001b[0m\u001b[0mX\u001b[0m\u001b[0;34m,\u001b[0m \u001b[0my\u001b[0m\u001b[0;34m,\u001b[0m \u001b[0;34m'csr'\u001b[0m\u001b[0;34m)\u001b[0m\u001b[0;34m\u001b[0m\u001b[0;34m\u001b[0m\u001b[0m\n\u001b[0m\u001b[1;32m    589\u001b[0m         \u001b[0m_\u001b[0m\u001b[0;34m,\u001b[0m \u001b[0mn_features\u001b[0m \u001b[0;34m=\u001b[0m \u001b[0mX\u001b[0m\u001b[0;34m.\u001b[0m\u001b[0mshape\u001b[0m\u001b[0;34m\u001b[0m\u001b[0;34m\u001b[0m\u001b[0m\n\u001b[1;32m    590\u001b[0m \u001b[0;34m\u001b[0m\u001b[0m\n",
      "\u001b[0;32m/usr/local/lib/python3.7/site-packages/sklearn/utils/validation.py\u001b[0m in \u001b[0;36mcheck_X_y\u001b[0;34m(X, y, accept_sparse, accept_large_sparse, dtype, order, copy, force_all_finite, ensure_2d, allow_nd, multi_output, ensure_min_samples, ensure_min_features, y_numeric, warn_on_dtype, estimator)\u001b[0m\n\u001b[1;32m    723\u001b[0m     \u001b[0;32melse\u001b[0m\u001b[0;34m:\u001b[0m\u001b[0;34m\u001b[0m\u001b[0;34m\u001b[0m\u001b[0m\n\u001b[1;32m    724\u001b[0m         \u001b[0my\u001b[0m \u001b[0;34m=\u001b[0m \u001b[0mcolumn_or_1d\u001b[0m\u001b[0;34m(\u001b[0m\u001b[0my\u001b[0m\u001b[0;34m,\u001b[0m \u001b[0mwarn\u001b[0m\u001b[0;34m=\u001b[0m\u001b[0;32mTrue\u001b[0m\u001b[0;34m)\u001b[0m\u001b[0;34m\u001b[0m\u001b[0;34m\u001b[0m\u001b[0m\n\u001b[0;32m--> 725\u001b[0;31m         \u001b[0m_assert_all_finite\u001b[0m\u001b[0;34m(\u001b[0m\u001b[0my\u001b[0m\u001b[0;34m)\u001b[0m\u001b[0;34m\u001b[0m\u001b[0;34m\u001b[0m\u001b[0m\n\u001b[0m\u001b[1;32m    726\u001b[0m     \u001b[0;32mif\u001b[0m \u001b[0my_numeric\u001b[0m \u001b[0;32mand\u001b[0m \u001b[0my\u001b[0m\u001b[0;34m.\u001b[0m\u001b[0mdtype\u001b[0m\u001b[0;34m.\u001b[0m\u001b[0mkind\u001b[0m \u001b[0;34m==\u001b[0m \u001b[0;34m'O'\u001b[0m\u001b[0;34m:\u001b[0m\u001b[0;34m\u001b[0m\u001b[0;34m\u001b[0m\u001b[0m\n\u001b[1;32m    727\u001b[0m         \u001b[0my\u001b[0m \u001b[0;34m=\u001b[0m \u001b[0my\u001b[0m\u001b[0;34m.\u001b[0m\u001b[0mastype\u001b[0m\u001b[0;34m(\u001b[0m\u001b[0mnp\u001b[0m\u001b[0;34m.\u001b[0m\u001b[0mfloat64\u001b[0m\u001b[0;34m)\u001b[0m\u001b[0;34m\u001b[0m\u001b[0;34m\u001b[0m\u001b[0m\n",
      "\u001b[0;32m/usr/local/lib/python3.7/site-packages/sklearn/utils/validation.py\u001b[0m in \u001b[0;36m_assert_all_finite\u001b[0;34m(X, allow_nan)\u001b[0m\n\u001b[1;32m     54\u001b[0m                 not allow_nan and not np.isfinite(X).all()):\n\u001b[1;32m     55\u001b[0m             \u001b[0mtype_err\u001b[0m \u001b[0;34m=\u001b[0m \u001b[0;34m'infinity'\u001b[0m \u001b[0;32mif\u001b[0m \u001b[0mallow_nan\u001b[0m \u001b[0;32melse\u001b[0m \u001b[0;34m'NaN, infinity'\u001b[0m\u001b[0;34m\u001b[0m\u001b[0;34m\u001b[0m\u001b[0m\n\u001b[0;32m---> 56\u001b[0;31m             \u001b[0;32mraise\u001b[0m \u001b[0mValueError\u001b[0m\u001b[0;34m(\u001b[0m\u001b[0mmsg_err\u001b[0m\u001b[0;34m.\u001b[0m\u001b[0mformat\u001b[0m\u001b[0;34m(\u001b[0m\u001b[0mtype_err\u001b[0m\u001b[0;34m,\u001b[0m \u001b[0mX\u001b[0m\u001b[0;34m.\u001b[0m\u001b[0mdtype\u001b[0m\u001b[0;34m)\u001b[0m\u001b[0;34m)\u001b[0m\u001b[0;34m\u001b[0m\u001b[0;34m\u001b[0m\u001b[0m\n\u001b[0m\u001b[1;32m     57\u001b[0m     \u001b[0;31m# for object dtype data, we only check for NaNs (GH-13254)\u001b[0m\u001b[0;34m\u001b[0m\u001b[0;34m\u001b[0m\u001b[0;34m\u001b[0m\u001b[0m\n\u001b[1;32m     58\u001b[0m     \u001b[0;32melif\u001b[0m \u001b[0mX\u001b[0m\u001b[0;34m.\u001b[0m\u001b[0mdtype\u001b[0m \u001b[0;34m==\u001b[0m \u001b[0mnp\u001b[0m\u001b[0;34m.\u001b[0m\u001b[0mdtype\u001b[0m\u001b[0;34m(\u001b[0m\u001b[0;34m'object'\u001b[0m\u001b[0;34m)\u001b[0m \u001b[0;32mand\u001b[0m \u001b[0;32mnot\u001b[0m \u001b[0mallow_nan\u001b[0m\u001b[0;34m:\u001b[0m\u001b[0;34m\u001b[0m\u001b[0;34m\u001b[0m\u001b[0m\n",
      "\u001b[0;31mValueError\u001b[0m: Input contains NaN, infinity or a value too large for dtype('float64')."
     ]
    }
   ],
   "source": [
    "from sklearn.naive_bayes import MultinomialNB\n",
    "clf = MultinomialNB().fit(xtrain_dtm,ytrain)\n",
    "predicted = clf.predict(xtext_dtm)"
   ]
  },
  {
   "cell_type": "code",
   "execution_count": null,
   "metadata": {},
   "outputs": [],
   "source": [
    "from sklearn import metrics\n",
    "print('Accuracy metrics')\n",
    "print('Accuracy of the classifier is',metrics.accuracy_score(ytest,predicted))\n",
    "print('Confusion Matrix')\n",
    "print(metrics.confusion_matrix(ytest,predicted))\n"
   ]
  },
  {
   "cell_type": "code",
   "execution_count": null,
   "metadata": {},
   "outputs": [],
   "source": []
  }
 ],
 "metadata": {
  "kernelspec": {
   "display_name": "Python 3",
   "language": "python",
   "name": "python3"
  },
  "language_info": {
   "codemirror_mode": {
    "name": "ipython",
    "version": 3
   },
   "file_extension": ".py",
   "mimetype": "text/x-python",
   "name": "python",
   "nbconvert_exporter": "python",
   "pygments_lexer": "ipython3",
   "version": "3.7.4"
  }
 },
 "nbformat": 4,
 "nbformat_minor": 2
}
