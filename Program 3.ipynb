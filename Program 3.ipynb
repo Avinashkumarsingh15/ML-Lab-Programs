{
 "cells": [
  {
   "cell_type": "markdown",
   "metadata": {},
   "source": [
    "# Program 3: ID3 algorithm"
   ]
  },
  {
   "cell_type": "markdown",
   "metadata": {},
   "source": [
    "## import math and csv"
   ]
  },
  {
   "cell_type": "code",
   "execution_count": 78,
   "metadata": {},
   "outputs": [],
   "source": [
    "import math\n",
    "import csv"
   ]
  },
  {
   "cell_type": "markdown",
   "metadata": {},
   "source": [
    "## separate header and remaining instances from the dataset"
   ]
  },
  {
   "cell_type": "code",
   "execution_count": 79,
   "metadata": {},
   "outputs": [],
   "source": [
    "def loadCsv(filename):\n",
    "\n",
    "    lines=csv.reader(open(filename,\"r\"));\n",
    "\n",
    "    dataset = list(lines)\n",
    "\n",
    "    headers = dataset.pop(0)\n",
    "\n",
    "    return dataset,headers"
   ]
  },
  {
   "cell_type": "markdown",
   "metadata": {},
   "source": [
    "## Node class used to build a tree"
   ]
  },
  {
   "cell_type": "code",
   "execution_count": 80,
   "metadata": {},
   "outputs": [],
   "source": [
    "class Node:\n",
    "\n",
    "    def __init__(self,attribute):\n",
    "\n",
    "        self.attribute=attribute\n",
    "\n",
    "        self.children=[]\n",
    "\n",
    "        self.answer=\" \""
   ]
  },
  {
   "cell_type": "code",
   "execution_count": 81,
   "metadata": {},
   "outputs": [],
   "source": [
    "def subtables(data,col,delete):\n",
    "\n",
    "    dic={}\n",
    "\n",
    "    coldata=[row[col]for row in data]\n",
    "\n",
    "    attr=list(set(coldata))\n",
    "\n",
    "    \n",
    "\n",
    "    counts=[0]*len(attr)\n",
    "\n",
    "    r=len(data)\n",
    "\n",
    "    c=len(data[0])\n",
    "\n",
    "    for x in range (len(attr)):\n",
    "\n",
    "        for y in range(r):\n",
    "\n",
    "            if data[y][col]==attr[x]:\n",
    "\n",
    "                counts[x]+=1\n",
    "\n",
    "    for x in range(len(attr)):\n",
    "\n",
    "        dic[attr[x]]=[[0 for i in range (c)]for j in range(counts[x])]\n",
    "\n",
    "        pos=0\n",
    "\n",
    "        for y in range(r):\n",
    "\n",
    "            if data[y][col]==attr[x]:\n",
    "\n",
    "                if delete:\n",
    "\n",
    "                    del data[y][col]\n",
    "\n",
    "                dic[attr[x]][pos]=data[y]\n",
    "\n",
    "                pos+=1\n",
    "\n",
    "    return attr,dic"
   ]
  },
  {
   "cell_type": "markdown",
   "metadata": {},
   "source": [
    "## Entropy function: uncertainity in dataset"
   ]
  },
  {
   "cell_type": "code",
   "execution_count": 82,
   "metadata": {},
   "outputs": [],
   "source": [
    "def entropy(S):\n",
    "\n",
    "    attr = list(set(S))\n",
    "\n",
    "    if len(attr)==1:\n",
    "\n",
    "        return 0\n",
    "\n",
    "    counts=[0,0]\n",
    "\n",
    "    for i in range(2):\n",
    "\n",
    "        counts[i]=sum([1 for x in S if attr[i]==x])/(len(S)*1.0)\n",
    "\n",
    "    sums=0\n",
    "\n",
    "    for cnt in counts:\n",
    "\n",
    "        sums+=-1 * cnt * math.log(cnt,2)\n",
    "\n",
    "    return sums"
   ]
  },
  {
   "cell_type": "markdown",
   "metadata": {},
   "source": [
    "## to calculate the highest gain"
   ]
  },
  {
   "cell_type": "code",
   "execution_count": 83,
   "metadata": {},
   "outputs": [],
   "source": [
    "def compute_gain(data,col):\n",
    "\n",
    "    attr,dic = subtables(data,col,delete=False)\n",
    "\n",
    "    total_size = len(data)\n",
    "\n",
    "    entropies = [0]*len(attr)\n",
    "\n",
    "    ratio = [0]*len(attr)\n",
    "\n",
    "    \n",
    "\n",
    "    total_entropy = entropy([row[-1]for row in data])\n",
    "\n",
    "    for x in range(len(attr)):\n",
    "\n",
    "        ratio[x]=len(dic[attr[x]])/(total_size*1.0)\n",
    "\n",
    "        entropies[x]=entropy([row[-1] for row in dic[attr[x]]])\n",
    "\n",
    "    for x in range(len(entropies)):\n",
    "\n",
    "        total_entropy-=ratio[x]*entropies[x]\n",
    "\n",
    "    return total_entropy "
   ]
  },
  {
   "cell_type": "markdown",
   "metadata": {},
   "source": [
    "## to create root and subsequent nodes"
   ]
  },
  {
   "cell_type": "code",
   "execution_count": 84,
   "metadata": {},
   "outputs": [],
   "source": [
    "def build_tree(data,features):\n",
    "\n",
    "    lastcol=[row[-1]for row in data]\n",
    "\n",
    "    if(len(set(lastcol)))==1:\n",
    "\n",
    "        node=Node(\"\")\n",
    "\n",
    "        node.answer = lastcol[0]\n",
    "\n",
    "        return node\n",
    "\n",
    "    n=len(data[0])-1\n",
    "\n",
    "\n",
    "\n",
    "    gains=[0]*n\n",
    "\n",
    "    for col in range(n):\n",
    "\n",
    "        gains[col]=compute_gain(data,col)\n",
    "\n",
    "    split=gains.index(max(gains))\n",
    "\n",
    "    node=Node(features[split])\n",
    "\n",
    "    fea=features[:split]+features[split+1:]\n",
    "\n",
    "    attr,dic=subtables(data,split,delete=True)\n",
    "\n",
    "    for x in range(len(attr)):\n",
    "\n",
    "        child=build_tree(dic[attr[x]],fea)\n",
    "\n",
    "        node.children.append((attr[x],child))\n",
    "\n",
    "    return node"
   ]
  },
  {
   "cell_type": "markdown",
   "metadata": {},
   "source": [
    "## to print the tree"
   ]
  },
  {
   "cell_type": "code",
   "execution_count": 85,
   "metadata": {},
   "outputs": [],
   "source": [
    "def print_tree(node,level):\n",
    "\n",
    "    if node.answer!= \" \":\n",
    "\n",
    "        print(\" \" * level,node.answer)\n",
    "\n",
    "        return\n",
    "\n",
    "    print(\" \"*level,node.attribute)\n",
    "\n",
    "    for value,n in node.children:\n",
    "\n",
    "        print(\" \"*(level+1),value)\n",
    "\n",
    "        print_tree(n,level+2)"
   ]
  },
  {
   "cell_type": "code",
   "execution_count": 86,
   "metadata": {},
   "outputs": [],
   "source": [
    "def classify(node,x_test,features):\n",
    "\n",
    "    if node.answer != \" \":\n",
    "\n",
    "        print(node.answer)\n",
    "\n",
    "        return\n",
    "\n",
    "    pos=features.index(node.attribute)\n",
    "\n",
    "    for value,n in node.children:\n",
    "\n",
    "        if x_test[pos]==value:\n",
    "\n",
    "           classify(n,x_test,features)"
   ]
  },
  {
   "cell_type": "markdown",
   "metadata": {},
   "source": [
    "## main function"
   ]
  },
  {
   "cell_type": "code",
   "execution_count": 87,
   "metadata": {},
   "outputs": [
    {
     "name": "stdout",
     "output_type": "stream",
     "text": [
      "['Outlook ', 'temperature', 'Humidity', 'windy', 'Play']\n",
      "the decision tree for the dataset using ID3 algorithm is\n",
      " Outlook \n",
      "  Sunny\n",
      "   Humidity\n",
      "    Normal\n",
      "     Yes\n",
      "    High\n",
      "     No\n",
      "  Overcast\n",
      "   Yes\n",
      "  Rainy\n",
      "   windy\n",
      "    True \n",
      "     No\n",
      "    False \n",
      "     Yes\n",
      "the test instance: ['Sunny', 'Hot', 'High', 'False ', 'No']\n",
      "the predicted label:No\n",
      "the test instance: ['Sunny', 'Hot', 'High', 'True ', 'No']\n",
      "the predicted label:No\n",
      "the test instance: ['Overcast', 'Hot', 'High', 'False ', 'Yes']\n",
      "the predicted label:Yes\n",
      "the test instance: ['Rainy', 'Mild', 'High', 'False ', 'Yes']\n",
      "the predicted label:Yes\n",
      "the test instance: ['Rainy', 'Cool ', 'Normal', 'False ', 'Yes']\n",
      "the predicted label:Yes\n",
      "the test instance: ['Rainy', 'Cool', 'Normal', 'True ', 'No']\n",
      "the predicted label:No\n",
      "the test instance: ['Overcast', 'Cool', 'Normal', 'True ', 'Yes']\n",
      "the predicted label:Yes\n",
      "the test instance: ['Sunny', 'Mild', 'High', 'False ', 'No']\n",
      "the predicted label:No\n",
      "the test instance: ['Sunny', 'Cool', 'Normal', 'False ', 'Yes']\n",
      "the predicted label:Yes\n",
      "the test instance: ['Rainy', 'Mild', 'Normal', 'False ', 'Yes']\n",
      "the predicted label:Yes\n",
      "the test instance: ['Sunny', 'Mild', 'Normal', 'True ', 'Yes']\n",
      "the predicted label:Yes\n",
      "the test instance: ['Overcast', 'Mild', 'High', 'True ', 'Yes']\n",
      "the predicted label:Yes\n",
      "the test instance: ['Overcast', 'Hot', 'Normal', 'False ', 'Yes']\n",
      "the predicted label:Yes\n",
      "the test instance: ['Rainy', 'Mild', 'High', 'True ', 'No']\n",
      "the predicted label:No\n"
     ]
    }
   ],
   "source": [
    "dataset,features=loadCsv(\"ID3Data.csv\")\n",
    "\n",
    "print(features)\n",
    "node=build_tree(dataset,features)\n",
    "print(\"the decision tree for the dataset using ID3 algorithm is\")\n",
    "print_tree(node,0)\n",
    "testdata,features=loadCsv(\"ID3Data.csv\")\n",
    "for xtest in testdata:\n",
    "    print(\"the test instance:\",xtest)\n",
    "    print(\"the predicted label:\",end=\"\")\n",
    "    classify(node,xtest,features)"
   ]
  }
 ],
 "metadata": {
  "kernelspec": {
   "display_name": "Python 3",
   "language": "python",
   "name": "python3"
  },
  "language_info": {
   "codemirror_mode": {
    "name": "ipython",
    "version": 3
   },
   "file_extension": ".py",
   "mimetype": "text/x-python",
   "name": "python",
   "nbconvert_exporter": "python",
   "pygments_lexer": "ipython3",
   "version": "3.7.4"
  }
 },
 "nbformat": 4,
 "nbformat_minor": 2
}
